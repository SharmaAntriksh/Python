{
 "cells": [
  {
   "cell_type": "markdown",
   "id": "bf846f21-c2c9-48b7-b501-d76da6edc602",
   "metadata": {},
   "source": [
    "#### **Import and Convert to Parquet**"
   ]
  },
  {
   "cell_type": "code",
   "execution_count": 1,
   "id": "6044ca1f-fd03-449a-aca9-e71795085ddc",
   "metadata": {},
   "outputs": [],
   "source": [
    "import pandas as pd"
   ]
  },
  {
   "cell_type": "code",
   "execution_count": 2,
   "id": "2ec311d2-a6d0-4946-beda-55bd314b0301",
   "metadata": {},
   "outputs": [
    {
     "data": {
      "text/plain": [
       "(128975, 23)"
      ]
     },
     "execution_count": 2,
     "metadata": {},
     "output_type": "execute_result"
    }
   ],
   "source": [
    "df = pd.read_excel('sales_data.xlsx')\n",
    "df.shape"
   ]
  },
  {
   "cell_type": "code",
   "execution_count": 3,
   "id": "7984c96c-c169-46ac-856d-29431cffb507",
   "metadata": {},
   "outputs": [
    {
     "data": {
      "text/html": [
       "<div>\n",
       "<style scoped>\n",
       "    .dataframe tbody tr th:only-of-type {\n",
       "        vertical-align: middle;\n",
       "    }\n",
       "\n",
       "    .dataframe tbody tr th {\n",
       "        vertical-align: top;\n",
       "    }\n",
       "\n",
       "    .dataframe thead th {\n",
       "        text-align: right;\n",
       "    }\n",
       "</style>\n",
       "<table border=\"1\" class=\"dataframe\">\n",
       "  <thead>\n",
       "    <tr style=\"text-align: right;\">\n",
       "      <th></th>\n",
       "      <th>index</th>\n",
       "      <th>Order ID</th>\n",
       "      <th>Date</th>\n",
       "      <th>Status</th>\n",
       "      <th>Fulfilment</th>\n",
       "      <th>Sales Channel</th>\n",
       "      <th>ship-service-level</th>\n",
       "      <th>Style</th>\n",
       "      <th>SKU</th>\n",
       "      <th>Category</th>\n",
       "      <th>...</th>\n",
       "      <th>Qty</th>\n",
       "      <th>currency</th>\n",
       "      <th>Amount</th>\n",
       "      <th>ship-city</th>\n",
       "      <th>ship-state</th>\n",
       "      <th>ship-postal-code</th>\n",
       "      <th>ship-country</th>\n",
       "      <th>promotion-ids</th>\n",
       "      <th>B2B</th>\n",
       "      <th>fulfilled-by</th>\n",
       "    </tr>\n",
       "  </thead>\n",
       "  <tbody>\n",
       "    <tr>\n",
       "      <th>0</th>\n",
       "      <td>0</td>\n",
       "      <td>405-8078784-5731545</td>\n",
       "      <td>04-30-22</td>\n",
       "      <td>Cancelled</td>\n",
       "      <td>Merchant</td>\n",
       "      <td>Amazon.in</td>\n",
       "      <td>Standard</td>\n",
       "      <td>SET389</td>\n",
       "      <td>SET389-KR-NP-S</td>\n",
       "      <td>Set</td>\n",
       "      <td>...</td>\n",
       "      <td>0</td>\n",
       "      <td>INR</td>\n",
       "      <td>647.62</td>\n",
       "      <td>MUMBAI</td>\n",
       "      <td>MAHARASHTRA</td>\n",
       "      <td>400081.0</td>\n",
       "      <td>IN</td>\n",
       "      <td>NaN</td>\n",
       "      <td>0.0</td>\n",
       "      <td>Easy Ship</td>\n",
       "    </tr>\n",
       "    <tr>\n",
       "      <th>1</th>\n",
       "      <td>1</td>\n",
       "      <td>171-9198151-1101146</td>\n",
       "      <td>04-30-22</td>\n",
       "      <td>Shipped - Delivered to Buyer</td>\n",
       "      <td>Merchant</td>\n",
       "      <td>Amazon.in</td>\n",
       "      <td>Standard</td>\n",
       "      <td>JNE3781</td>\n",
       "      <td>JNE3781-KR-XXXL</td>\n",
       "      <td>Blouse</td>\n",
       "      <td>...</td>\n",
       "      <td>1</td>\n",
       "      <td>INR</td>\n",
       "      <td>406.00</td>\n",
       "      <td>BENGALURU</td>\n",
       "      <td>KARNATAKA</td>\n",
       "      <td>560085.0</td>\n",
       "      <td>IN</td>\n",
       "      <td>Amazon PLCC Free-Financing Universal Merchant ...</td>\n",
       "      <td>0.0</td>\n",
       "      <td>Easy Ship</td>\n",
       "    </tr>\n",
       "  </tbody>\n",
       "</table>\n",
       "<p>2 rows × 23 columns</p>\n",
       "</div>"
      ],
      "text/plain": [
       "   index             Order ID      Date                        Status  \\\n",
       "0      0  405-8078784-5731545  04-30-22                     Cancelled   \n",
       "1      1  171-9198151-1101146  04-30-22  Shipped - Delivered to Buyer   \n",
       "\n",
       "  Fulfilment Sales Channel  ship-service-level    Style              SKU  \\\n",
       "0   Merchant      Amazon.in           Standard   SET389   SET389-KR-NP-S   \n",
       "1   Merchant      Amazon.in           Standard  JNE3781  JNE3781-KR-XXXL   \n",
       "\n",
       "  Category  ... Qty currency  Amount  ship-city   ship-state  \\\n",
       "0      Set  ...   0      INR  647.62     MUMBAI  MAHARASHTRA   \n",
       "1   Blouse  ...   1      INR  406.00  BENGALURU    KARNATAKA   \n",
       "\n",
       "   ship-postal-code ship-country  \\\n",
       "0          400081.0           IN   \n",
       "1          560085.0           IN   \n",
       "\n",
       "                                       promotion-ids  B2B fulfilled-by  \n",
       "0                                                NaN  0.0    Easy Ship  \n",
       "1  Amazon PLCC Free-Financing Universal Merchant ...  0.0    Easy Ship  \n",
       "\n",
       "[2 rows x 23 columns]"
      ]
     },
     "execution_count": 3,
     "metadata": {},
     "output_type": "execute_result"
    }
   ],
   "source": [
    "df.head(2)"
   ]
  },
  {
   "cell_type": "code",
   "execution_count": 4,
   "id": "854a745e-e3f8-4ab1-941d-0036ce17b160",
   "metadata": {},
   "outputs": [
    {
     "name": "stderr",
     "output_type": "stream",
     "text": [
      "C:\\Users\\antsharma\\AppData\\Local\\Temp\\ipykernel_20860\\764547939.py:2: UserWarning: Could not infer format, so each element will be parsed individually, falling back to `dateutil`. To ensure parsing is consistent and as-expected, please specify a format.\n",
      "  df['Date'] = pd.to_datetime(df['Date'])\n"
     ]
    }
   ],
   "source": [
    "df.columns = [col.replace('-', ' ').title() for col in df.columns]\n",
    "df['Date'] = pd.to_datetime(df['Date'])\n",
    "df['Ship City'] = df['Ship City'].astype('str')\n",
    "df.to_parquet(\"sales.parquet\")"
   ]
  },
  {
   "cell_type": "code",
   "execution_count": 5,
   "id": "5ec05a49-3296-44cb-b1ea-8475f32d7c8d",
   "metadata": {},
   "outputs": [
    {
     "data": {
      "text/html": [
       "<div>\n",
       "<style scoped>\n",
       "    .dataframe tbody tr th:only-of-type {\n",
       "        vertical-align: middle;\n",
       "    }\n",
       "\n",
       "    .dataframe tbody tr th {\n",
       "        vertical-align: top;\n",
       "    }\n",
       "\n",
       "    .dataframe thead th {\n",
       "        text-align: right;\n",
       "    }\n",
       "</style>\n",
       "<table border=\"1\" class=\"dataframe\">\n",
       "  <thead>\n",
       "    <tr style=\"text-align: right;\">\n",
       "      <th></th>\n",
       "      <th>Index</th>\n",
       "      <th>Order Id</th>\n",
       "      <th>Date</th>\n",
       "      <th>Status</th>\n",
       "      <th>Fulfilment</th>\n",
       "      <th>Sales Channel</th>\n",
       "      <th>Ship Service Level</th>\n",
       "      <th>Style</th>\n",
       "      <th>Sku</th>\n",
       "      <th>Category</th>\n",
       "      <th>...</th>\n",
       "      <th>Qty</th>\n",
       "      <th>Currency</th>\n",
       "      <th>Amount</th>\n",
       "      <th>Ship City</th>\n",
       "      <th>Ship State</th>\n",
       "      <th>Ship Postal Code</th>\n",
       "      <th>Ship Country</th>\n",
       "      <th>Promotion Ids</th>\n",
       "      <th>B2B</th>\n",
       "      <th>Fulfilled By</th>\n",
       "    </tr>\n",
       "  </thead>\n",
       "  <tbody>\n",
       "    <tr>\n",
       "      <th>0</th>\n",
       "      <td>0</td>\n",
       "      <td>405-8078784-5731545</td>\n",
       "      <td>2022-04-30</td>\n",
       "      <td>Cancelled</td>\n",
       "      <td>Merchant</td>\n",
       "      <td>Amazon.in</td>\n",
       "      <td>Standard</td>\n",
       "      <td>SET389</td>\n",
       "      <td>SET389-KR-NP-S</td>\n",
       "      <td>Set</td>\n",
       "      <td>...</td>\n",
       "      <td>0</td>\n",
       "      <td>INR</td>\n",
       "      <td>647.62</td>\n",
       "      <td>MUMBAI</td>\n",
       "      <td>MAHARASHTRA</td>\n",
       "      <td>400081.0</td>\n",
       "      <td>IN</td>\n",
       "      <td>None</td>\n",
       "      <td>0.0</td>\n",
       "      <td>Easy Ship</td>\n",
       "    </tr>\n",
       "    <tr>\n",
       "      <th>1</th>\n",
       "      <td>1</td>\n",
       "      <td>171-9198151-1101146</td>\n",
       "      <td>2022-04-30</td>\n",
       "      <td>Shipped - Delivered to Buyer</td>\n",
       "      <td>Merchant</td>\n",
       "      <td>Amazon.in</td>\n",
       "      <td>Standard</td>\n",
       "      <td>JNE3781</td>\n",
       "      <td>JNE3781-KR-XXXL</td>\n",
       "      <td>Blouse</td>\n",
       "      <td>...</td>\n",
       "      <td>1</td>\n",
       "      <td>INR</td>\n",
       "      <td>406.00</td>\n",
       "      <td>BENGALURU</td>\n",
       "      <td>KARNATAKA</td>\n",
       "      <td>560085.0</td>\n",
       "      <td>IN</td>\n",
       "      <td>Amazon PLCC Free-Financing Universal Merchant ...</td>\n",
       "      <td>0.0</td>\n",
       "      <td>Easy Ship</td>\n",
       "    </tr>\n",
       "  </tbody>\n",
       "</table>\n",
       "<p>2 rows × 23 columns</p>\n",
       "</div>"
      ],
      "text/plain": [
       "   Index             Order Id       Date                        Status  \\\n",
       "0      0  405-8078784-5731545 2022-04-30                     Cancelled   \n",
       "1      1  171-9198151-1101146 2022-04-30  Shipped - Delivered to Buyer   \n",
       "\n",
       "  Fulfilment Sales Channel  Ship Service Level    Style              Sku  \\\n",
       "0   Merchant      Amazon.in           Standard   SET389   SET389-KR-NP-S   \n",
       "1   Merchant      Amazon.in           Standard  JNE3781  JNE3781-KR-XXXL   \n",
       "\n",
       "  Category  ... Qty Currency  Amount  Ship City   Ship State  \\\n",
       "0      Set  ...   0      INR  647.62     MUMBAI  MAHARASHTRA   \n",
       "1   Blouse  ...   1      INR  406.00  BENGALURU    KARNATAKA   \n",
       "\n",
       "   Ship Postal Code Ship Country  \\\n",
       "0          400081.0           IN   \n",
       "1          560085.0           IN   \n",
       "\n",
       "                                       Promotion Ids  B2B Fulfilled By  \n",
       "0                                               None  0.0    Easy Ship  \n",
       "1  Amazon PLCC Free-Financing Universal Merchant ...  0.0    Easy Ship  \n",
       "\n",
       "[2 rows x 23 columns]"
      ]
     },
     "execution_count": 5,
     "metadata": {},
     "output_type": "execute_result"
    }
   ],
   "source": [
    "df = pd.read_parquet(\"sales.parquet\")\n",
    "df.head(2)"
   ]
  },
  {
   "cell_type": "code",
   "execution_count": 6,
   "id": "28b1eb2a-72d9-4a10-9e4e-fb5b8fe31dfa",
   "metadata": {
    "scrolled": true
   },
   "outputs": [
    {
     "data": {
      "text/plain": [
       "(121180, 23)"
      ]
     },
     "execution_count": 6,
     "metadata": {},
     "output_type": "execute_result"
    }
   ],
   "source": [
    "df.dropna(subset = ['Amount'], inplace = True)\n",
    "df.shape"
   ]
  },
  {
   "cell_type": "markdown",
   "id": "5df0d68c-5b88-4560-a4ad-68abea5f2fc2",
   "metadata": {},
   "source": [
    "#### **Q1: How many sales have they made with amounts more than 1000**"
   ]
  },
  {
   "cell_type": "code",
   "execution_count": 7,
   "id": "87d9dc49-7083-4423-8453-fd70e8880dae",
   "metadata": {},
   "outputs": [
    {
     "data": {
      "text/plain": [
       "13332"
      ]
     },
     "execution_count": 7,
     "metadata": {},
     "output_type": "execute_result"
    }
   ],
   "source": [
    "len(df[df['Amount'] > 1000])"
   ]
  },
  {
   "cell_type": "markdown",
   "id": "c4aa8c47-f8dd-44f9-936c-f8258dabfd73",
   "metadata": {},
   "source": [
    "#### **Q2: How many sales have they made that belong to the Category \"Tops\" and have a Quantity of 3.**"
   ]
  },
  {
   "cell_type": "code",
   "execution_count": 8,
   "id": "86cae2a2-b445-436e-864d-a4d2d23c8f28",
   "metadata": {},
   "outputs": [
    {
     "data": {
      "text/plain": [
       "3"
      ]
     },
     "execution_count": 8,
     "metadata": {},
     "output_type": "execute_result"
    }
   ],
   "source": [
    "len(df[(df['Category'] == 'Top') & (df['Qty'] == 3)])"
   ]
  },
  {
   "cell_type": "markdown",
   "id": "812b92bd-7795-4d7f-8101-68435b209590",
   "metadata": {},
   "source": [
    "#### **Q3: The Total Sales by Category**"
   ]
  },
  {
   "cell_type": "code",
   "execution_count": 9,
   "id": "c510400d-2ffb-4813-9fd1-dda14d987f42",
   "metadata": {},
   "outputs": [
    {
     "data": {
      "text/html": [
       "<div>\n",
       "<style scoped>\n",
       "    .dataframe tbody tr th:only-of-type {\n",
       "        vertical-align: middle;\n",
       "    }\n",
       "\n",
       "    .dataframe tbody tr th {\n",
       "        vertical-align: top;\n",
       "    }\n",
       "\n",
       "    .dataframe thead th {\n",
       "        text-align: right;\n",
       "    }\n",
       "</style>\n",
       "<table border=\"1\" class=\"dataframe\">\n",
       "  <thead>\n",
       "    <tr style=\"text-align: right;\">\n",
       "      <th></th>\n",
       "      <th>Category</th>\n",
       "      <th>Amount</th>\n",
       "    </tr>\n",
       "  </thead>\n",
       "  <tbody>\n",
       "    <tr>\n",
       "      <th>0</th>\n",
       "      <td>Set</td>\n",
       "      <td>39204124.03</td>\n",
       "    </tr>\n",
       "    <tr>\n",
       "      <th>1</th>\n",
       "      <td>Blouse</td>\n",
       "      <td>21757954.88</td>\n",
       "    </tr>\n",
       "    <tr>\n",
       "      <th>2</th>\n",
       "      <td>Dress</td>\n",
       "      <td>12131224.11</td>\n",
       "    </tr>\n",
       "    <tr>\n",
       "      <th>3</th>\n",
       "      <td>Top</td>\n",
       "      <td>5347792.30</td>\n",
       "    </tr>\n",
       "    <tr>\n",
       "      <th>4</th>\n",
       "      <td>Bottom</td>\n",
       "      <td>150667.98</td>\n",
       "    </tr>\n",
       "    <tr>\n",
       "      <th>5</th>\n",
       "      <td>Scarf</td>\n",
       "      <td>915.00</td>\n",
       "    </tr>\n",
       "  </tbody>\n",
       "</table>\n",
       "</div>"
      ],
      "text/plain": [
       "  Category       Amount\n",
       "0      Set  39204124.03\n",
       "1   Blouse  21757954.88\n",
       "2    Dress  12131224.11\n",
       "3      Top   5347792.30\n",
       "4   Bottom    150667.98\n",
       "5    Scarf       915.00"
      ]
     },
     "execution_count": 9,
     "metadata": {},
     "output_type": "execute_result"
    }
   ],
   "source": [
    "df.groupby('Category', as_index = False)\\\n",
    "    .agg({'Amount':'sum'})\\\n",
    "    .sort_values('Amount', ascending = False)\\\n",
    "    .reset_index(drop=True)"
   ]
  },
  {
   "cell_type": "markdown",
   "id": "3f532011-f555-4833-a118-a9dd3c91935c",
   "metadata": {},
   "source": [
    "#### **Q4: Average Amount by Category and Status**"
   ]
  },
  {
   "cell_type": "code",
   "execution_count": 10,
   "id": "17a86fc5-ea81-457d-98b6-678961c86323",
   "metadata": {},
   "outputs": [
    {
     "data": {
      "text/html": [
       "<div>\n",
       "<style scoped>\n",
       "    .dataframe tbody tr th:only-of-type {\n",
       "        vertical-align: middle;\n",
       "    }\n",
       "\n",
       "    .dataframe tbody tr th {\n",
       "        vertical-align: top;\n",
       "    }\n",
       "\n",
       "    .dataframe thead th {\n",
       "        text-align: right;\n",
       "    }\n",
       "</style>\n",
       "<table border=\"1\" class=\"dataframe\">\n",
       "  <thead>\n",
       "    <tr style=\"text-align: right;\">\n",
       "      <th></th>\n",
       "      <th>Category</th>\n",
       "      <th>Fulfilment</th>\n",
       "      <th>Amount</th>\n",
       "    </tr>\n",
       "  </thead>\n",
       "  <tbody>\n",
       "    <tr>\n",
       "      <th>0</th>\n",
       "      <td>Set</td>\n",
       "      <td>Amazon</td>\n",
       "      <td>838.042180</td>\n",
       "    </tr>\n",
       "    <tr>\n",
       "      <th>1</th>\n",
       "      <td>Set</td>\n",
       "      <td>Merchant</td>\n",
       "      <td>822.466512</td>\n",
       "    </tr>\n",
       "    <tr>\n",
       "      <th>2</th>\n",
       "      <td>Dress</td>\n",
       "      <td>Amazon</td>\n",
       "      <td>776.077009</td>\n",
       "    </tr>\n",
       "    <tr>\n",
       "      <th>3</th>\n",
       "      <td>Dress</td>\n",
       "      <td>Merchant</td>\n",
       "      <td>740.499730</td>\n",
       "    </tr>\n",
       "    <tr>\n",
       "      <th>4</th>\n",
       "      <td>Top</td>\n",
       "      <td>Amazon</td>\n",
       "      <td>536.449448</td>\n",
       "    </tr>\n",
       "    <tr>\n",
       "      <th>5</th>\n",
       "      <td>Top</td>\n",
       "      <td>Merchant</td>\n",
       "      <td>493.678577</td>\n",
       "    </tr>\n",
       "    <tr>\n",
       "      <th>6</th>\n",
       "      <td>Blouse</td>\n",
       "      <td>Amazon</td>\n",
       "      <td>459.493705</td>\n",
       "    </tr>\n",
       "    <tr>\n",
       "      <th>7</th>\n",
       "      <td>Blouse</td>\n",
       "      <td>Merchant</td>\n",
       "      <td>451.327641</td>\n",
       "    </tr>\n",
       "    <tr>\n",
       "      <th>8</th>\n",
       "      <td>Bottom</td>\n",
       "      <td>Amazon</td>\n",
       "      <td>365.080508</td>\n",
       "    </tr>\n",
       "    <tr>\n",
       "      <th>9</th>\n",
       "      <td>Bottom</td>\n",
       "      <td>Merchant</td>\n",
       "      <td>350.592283</td>\n",
       "    </tr>\n",
       "    <tr>\n",
       "      <th>10</th>\n",
       "      <td>Scarf</td>\n",
       "      <td>Amazon</td>\n",
       "      <td>305.000000</td>\n",
       "    </tr>\n",
       "  </tbody>\n",
       "</table>\n",
       "</div>"
      ],
      "text/plain": [
       "   Category Fulfilment      Amount\n",
       "0       Set     Amazon  838.042180\n",
       "1       Set   Merchant  822.466512\n",
       "2     Dress     Amazon  776.077009\n",
       "3     Dress   Merchant  740.499730\n",
       "4       Top     Amazon  536.449448\n",
       "5       Top   Merchant  493.678577\n",
       "6    Blouse     Amazon  459.493705\n",
       "7    Blouse   Merchant  451.327641\n",
       "8    Bottom     Amazon  365.080508\n",
       "9    Bottom   Merchant  350.592283\n",
       "10    Scarf     Amazon  305.000000"
      ]
     },
     "execution_count": 10,
     "metadata": {},
     "output_type": "execute_result"
    }
   ],
   "source": [
    "df.groupby(['Category', 'Fulfilment'], as_index = False)\\\n",
    "    .agg({'Amount': 'mean'})\\\n",
    "    .sort_values('Amount', ascending = False)\\\n",
    "    .reset_index(drop = True)"
   ]
  },
  {
   "cell_type": "markdown",
   "id": "261dff3f-8096-4a78-b294-a1924168a06e",
   "metadata": {},
   "source": [
    "#### **Q5: Average Amount by Category and Status**"
   ]
  },
  {
   "cell_type": "code",
   "execution_count": 11,
   "id": "c12a9e46-bd62-4306-9aa3-3d5d2f4c8c00",
   "metadata": {},
   "outputs": [
    {
     "data": {
      "text/html": [
       "<div>\n",
       "<style scoped>\n",
       "    .dataframe tbody tr th:only-of-type {\n",
       "        vertical-align: middle;\n",
       "    }\n",
       "\n",
       "    .dataframe tbody tr th {\n",
       "        vertical-align: top;\n",
       "    }\n",
       "\n",
       "    .dataframe thead th {\n",
       "        text-align: right;\n",
       "    }\n",
       "</style>\n",
       "<table border=\"1\" class=\"dataframe\">\n",
       "  <thead>\n",
       "    <tr style=\"text-align: right;\">\n",
       "      <th></th>\n",
       "      <th>Category</th>\n",
       "      <th>Status</th>\n",
       "      <th>Amount</th>\n",
       "    </tr>\n",
       "  </thead>\n",
       "  <tbody>\n",
       "    <tr>\n",
       "      <th>0</th>\n",
       "      <td>Dress</td>\n",
       "      <td>Shipped - Damaged</td>\n",
       "      <td>1136.000000</td>\n",
       "    </tr>\n",
       "    <tr>\n",
       "      <th>1</th>\n",
       "      <td>Set</td>\n",
       "      <td>Shipped - Out for Delivery</td>\n",
       "      <td>908.105263</td>\n",
       "    </tr>\n",
       "    <tr>\n",
       "      <th>2</th>\n",
       "      <td>Dress</td>\n",
       "      <td>Shipped - Rejected by Buyer</td>\n",
       "      <td>899.000000</td>\n",
       "    </tr>\n",
       "    <tr>\n",
       "      <th>3</th>\n",
       "      <td>Set</td>\n",
       "      <td>Shipped - Returning to Seller</td>\n",
       "      <td>875.835616</td>\n",
       "    </tr>\n",
       "    <tr>\n",
       "      <th>4</th>\n",
       "      <td>Set</td>\n",
       "      <td>Shipped - Picked Up</td>\n",
       "      <td>846.322660</td>\n",
       "    </tr>\n",
       "  </tbody>\n",
       "</table>\n",
       "</div>"
      ],
      "text/plain": [
       "  Category                         Status       Amount\n",
       "0    Dress              Shipped - Damaged  1136.000000\n",
       "1      Set     Shipped - Out for Delivery   908.105263\n",
       "2    Dress    Shipped - Rejected by Buyer   899.000000\n",
       "3      Set  Shipped - Returning to Seller   875.835616\n",
       "4      Set            Shipped - Picked Up   846.322660"
      ]
     },
     "execution_count": 11,
     "metadata": {},
     "output_type": "execute_result"
    }
   ],
   "source": [
    "df.groupby(['Category', 'Status'], as_index = False)\\\n",
    "    .agg({'Amount': 'mean'})\\\n",
    "    .sort_values('Amount', ascending = False)\\\n",
    "    .reset_index(drop = True)\\\n",
    "    .head()"
   ]
  },
  {
   "cell_type": "markdown",
   "id": "56af6326-4df3-40f9-8293-115dee7de656",
   "metadata": {},
   "source": [
    "#### **Q6: Total Sales by Fulfilment and Shipment Type**"
   ]
  },
  {
   "cell_type": "code",
   "execution_count": 12,
   "id": "595a2416-23b9-45f4-8e1c-71ceb8560b8e",
   "metadata": {},
   "outputs": [
    {
     "data": {
      "text/html": [
       "<div>\n",
       "<style scoped>\n",
       "    .dataframe tbody tr th:only-of-type {\n",
       "        vertical-align: middle;\n",
       "    }\n",
       "\n",
       "    .dataframe tbody tr th {\n",
       "        vertical-align: top;\n",
       "    }\n",
       "\n",
       "    .dataframe thead th {\n",
       "        text-align: right;\n",
       "    }\n",
       "</style>\n",
       "<table border=\"1\" class=\"dataframe\">\n",
       "  <thead>\n",
       "    <tr style=\"text-align: right;\">\n",
       "      <th></th>\n",
       "      <th>Courier Status</th>\n",
       "      <th>Fulfilment</th>\n",
       "      <th>Amount</th>\n",
       "    </tr>\n",
       "  </thead>\n",
       "  <tbody>\n",
       "    <tr>\n",
       "      <th>0</th>\n",
       "      <td>Shipped</td>\n",
       "      <td>Amazon</td>\n",
       "      <td>50331934.0</td>\n",
       "    </tr>\n",
       "    <tr>\n",
       "      <th>1</th>\n",
       "      <td>Shipped</td>\n",
       "      <td>Merchant</td>\n",
       "      <td>20726730.0</td>\n",
       "    </tr>\n",
       "    <tr>\n",
       "      <th>2</th>\n",
       "      <td>Unshipped</td>\n",
       "      <td>Amazon</td>\n",
       "      <td>3990217.0</td>\n",
       "    </tr>\n",
       "    <tr>\n",
       "      <th>3</th>\n",
       "      <td>Unshipped</td>\n",
       "      <td>Merchant</td>\n",
       "      <td>353625.0</td>\n",
       "    </tr>\n",
       "  </tbody>\n",
       "</table>\n",
       "</div>"
      ],
      "text/plain": [
       "  Courier Status Fulfilment      Amount\n",
       "0        Shipped     Amazon  50331934.0\n",
       "1        Shipped   Merchant  20726730.0\n",
       "2      Unshipped     Amazon   3990217.0\n",
       "3      Unshipped   Merchant    353625.0"
      ]
     },
     "execution_count": 12,
     "metadata": {},
     "output_type": "execute_result"
    }
   ],
   "source": [
    "df.groupby(['Courier Status', 'Fulfilment'], as_index = False)\\\n",
    "    .agg({'Amount': 'sum'})\\\n",
    "    .sort_values('Amount', ascending = False)\\\n",
    "    .reset_index(drop = True)"
   ]
  }
 ],
 "metadata": {
  "kernelspec": {
   "display_name": "Python 3 (ipykernel)",
   "language": "python",
   "name": "python3"
  },
  "language_info": {
   "codemirror_mode": {
    "name": "ipython",
    "version": 3
   },
   "file_extension": ".py",
   "mimetype": "text/x-python",
   "name": "python",
   "nbconvert_exporter": "python",
   "pygments_lexer": "ipython3",
   "version": "3.11.3"
  }
 },
 "nbformat": 4,
 "nbformat_minor": 5
}
